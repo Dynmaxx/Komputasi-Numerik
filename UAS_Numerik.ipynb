{
  "nbformat": 4,
  "nbformat_minor": 0,
  "metadata": {
    "colab": {
      "provenance": [],
      "authorship_tag": "ABX9TyPHfvZfw0NkGO+Peqvz4QgJ",
      "include_colab_link": true
    },
    "kernelspec": {
      "name": "python3",
      "display_name": "Python 3"
    },
    "language_info": {
      "name": "python"
    }
  },
  "cells": [
    {
      "cell_type": "markdown",
      "metadata": {
        "id": "view-in-github",
        "colab_type": "text"
      },
      "source": [
        "<a href=\"https://colab.research.google.com/github/Dynmaxx/Komputasi-Numerik/blob/main/UAS_Numerik.ipynb\" target=\"_parent\"><img src=\"https://colab.research.google.com/assets/colab-badge.svg\" alt=\"Open In Colab\"/></a>"
      ]
    },
    {
      "cell_type": "code",
      "execution_count": null,
      "metadata": {
        "id": "GAcmiiVa4Rm6"
      },
      "outputs": [],
      "source": [
        "import numpy as np\n",
        "import sys"
      ]
    },
    {
      "cell_type": "code",
      "source": [
        "def f(x):\n",
        "    return x**2 + 4\n",
        "\n",
        "def g(x):\n",
        "    return x**2 - 1\n",
        "\n",
        "def rectangle_integral(f, a, b, n):\n",
        "    delta_x = (b - a) / n\n",
        "    integral = 0\n",
        "    for i in range(n):\n",
        "\n",
        "        x_mid = a + (i + 0.5) * delta_x\n",
        "        integral += f(x_mid) * delta_x\n",
        "    return integral"
      ],
      "metadata": {
        "id": "7YhpHyS95upW"
      },
      "execution_count": null,
      "outputs": []
    },
    {
      "cell_type": "code",
      "source": [
        "a = -1\n",
        "b = 4\n",
        "n = 5\n",
        "\n",
        "integral_f = rectangle_integral(f, a, b, n)\n",
        "integral_g = rectangle_integral(g, a, b, n)\n",
        "\n",
        "\n",
        "print(f\"Integral f(x) dari {a} sampai {b} dengan {n} subinterval: {integral_f}\")\n",
        "print(f\"Integral g(x) dari {a} sampai {b} dengan {n} subinterval: {integral_g}\")"
      ],
      "metadata": {
        "colab": {
          "base_uri": "https://localhost:8080/"
        },
        "id": "FYEpaMfI5jTg",
        "outputId": "36b4bf74-f4df-414c-84b9-730f312f68c1"
      },
      "execution_count": null,
      "outputs": [
        {
          "output_type": "stream",
          "name": "stdout",
          "text": [
            "Integral f(x) dari -1 sampai 4 dengan 5 subinterval: 41.25\n",
            "Integral g(x) dari -1 sampai 4 dengan 5 subinterval: 16.25\n"
          ]
        }
      ]
    }
  ]
}