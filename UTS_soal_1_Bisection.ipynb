{
  "nbformat": 4,
  "nbformat_minor": 0,
  "metadata": {
    "colab": {
      "provenance": [],
      "authorship_tag": "ABX9TyMUEYa09ovmCPB1mc/FPXR7",
      "include_colab_link": true
    },
    "kernelspec": {
      "name": "python3",
      "display_name": "Python 3"
    },
    "language_info": {
      "name": "python"
    }
  },
  "cells": [
    {
      "cell_type": "markdown",
      "metadata": {
        "id": "view-in-github",
        "colab_type": "text"
      },
      "source": [
        "<a href=\"https://colab.research.google.com/github/Dynmaxx/Komputasi-Numerik/blob/main/UTS_soal_1_Bisection.ipynb\" target=\"_parent\"><img src=\"https://colab.research.google.com/assets/colab-badge.svg\" alt=\"Open In Colab\"/></a>"
      ]
    },
    {
      "cell_type": "code",
      "execution_count": 184,
      "metadata": {
        "id": "gkrxm3U4BABF"
      },
      "outputs": [],
      "source": [
        "import numpy as np\n",
        "import sys"
      ]
    },
    {
      "cell_type": "markdown",
      "source": [
        "untuk menambahkan library numpy dan diganti nama dengan np dan menambahkan library sys"
      ],
      "metadata": {
        "id": "PqTZis8iLaI4"
      }
    },
    {
      "cell_type": "code",
      "source": [
        "def f(x):\n",
        "    f = 2*x**2 - 4*x - 6\n",
        "    return f"
      ],
      "metadata": {
        "id": "qF_c55GzBX0Y"
      },
      "execution_count": 185,
      "outputs": []
    },
    {
      "cell_type": "markdown",
      "source": [
        "def digunakan untuk mendefinisikan suatu fungsi dalam python dalam kode diatas fungsi def diberi nama f dan x adalah paramater yang diterima oleh fungsi, x bisa dianggap sebagai input yang akan diproses oleh fungsi ketika dipanggil.\n",
        "\n",
        "f= 2*x**2 - 4*x - 6 adalah rumus fungsi dari variabel f.\n",
        "\n",
        "return f digunakan untuk mengembalikan suatu nilai varibel f yang telah dihitung berdasarkan rumus diatas"
      ],
      "metadata": {
        "id": "FRZdNWuHL7kQ"
      }
    },
    {
      "cell_type": "code",
      "source": [
        "def bisection(a, b):\n",
        "    eps = 0.1\n",
        "    while (eps > 0.0001):\n",
        "        c=(a+b)/2\n",
        "\n",
        "        if f(c) == 0 :\n",
        "          break\n",
        "\n",
        "        elif (f(a)*f(c) < 0):\n",
        "          b = c\n",
        "        else:\n",
        "          a = c\n",
        "        eps =  abs(a-b)\n",
        "    return c"
      ],
      "metadata": {
        "id": "bHacaP5nBkgo"
      },
      "execution_count": 186,
      "outputs": []
    },
    {
      "cell_type": "markdown",
      "source": [
        "def digunakan untuk mendefinisikan fungsi dalam python dalam kode diatas def diberi nama bisection, dan (a,b) adalah paramater yang diterima oleh fungsi yang digunakan untuk mempresentasikan batas atas dan batas bawah dari interval dimana akar dari fungsi f(x) dicari.\n",
        "\n",
        "variabel eps dinisialiasi dengan nilai 0,1. eps biasanya digunakan untuk menentukan seberapa kecil jarak antara dua batas a dan b.\n",
        "\n",
        "while (eps > 0,0001) digunakan untuk melooping.\n",
        "\n",
        "\n",
        "c= (a+b)/2 digunakan untuk mencari nilai tengah.\n",
        "\n",
        "if f(c) == 0 :\n",
        "break\n",
        "digunakan untuk menghentikan loopingan jika nilai f(c) adalah 0\n",
        "\n",
        "\n",
        "elif (f(a)*f(c) < 0):\n",
        "          b = c\n",
        "        else:\n",
        "          a = c\n",
        "          digunakan untuk mengecek tanda untuk memperbarui batas\n",
        "          jika f(a)*f(c) < 0 maka batas b diubah menjadi c sebaliknya jika f(a)*f(c) lebih besar dari 0 maka batas a diubah menjadi c\n",
        "\n",
        "eps =  abs(a-b) digunakan untuk memperbarui looping\n",
        "\n",
        "return c digunakan untuk mengembalikan nilai c"
      ],
      "metadata": {
        "id": "BzJoquPYOAu5"
      }
    },
    {
      "cell_type": "code",
      "source": [
        "a = 2\n",
        "b = 4\n",
        "akar = bisection(a, b)\n",
        "print(\"Akar dari persamaan tersebut adalah:\", akar)"
      ],
      "metadata": {
        "colab": {
          "base_uri": "https://localhost:8080/"
        },
        "id": "Og9ZtanRDx7R",
        "outputId": "135bed94-66f7-40b3-b863-1b4dec219a9a"
      },
      "execution_count": 187,
      "outputs": [
        {
          "output_type": "stream",
          "name": "stdout",
          "text": [
            "Akar dari persamaan tersebut adalah: 3.0\n"
          ]
        }
      ]
    },
    {
      "cell_type": "markdown",
      "source": [
        "a = 2 digunakan untuk mengisi nilai variabel a\n",
        "b = 4 digunakan untuk mengisi nilai variabel b\n",
        "akar = bisection(a,b) digunakan untuk mengisi nilai paramater a dan b ke bisection\n",
        "print digunakan untuk menampilkan output"
      ],
      "metadata": {
        "id": "di2dcdN9Rfr1"
      }
    }
  ]
}