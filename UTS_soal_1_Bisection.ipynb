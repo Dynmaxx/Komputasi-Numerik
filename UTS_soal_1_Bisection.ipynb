{
  "nbformat": 4,
  "nbformat_minor": 0,
  "metadata": {
    "colab": {
      "provenance": [],
      "authorship_tag": "ABX9TyNSO8yfrxrkQ1f1o0G9so7e",
      "include_colab_link": true
    },
    "kernelspec": {
      "name": "python3",
      "display_name": "Python 3"
    },
    "language_info": {
      "name": "python"
    }
  },
  "cells": [
    {
      "cell_type": "markdown",
      "metadata": {
        "id": "view-in-github",
        "colab_type": "text"
      },
      "source": [
        "<a href=\"https://colab.research.google.com/github/Dynmaxx/Tugas-FBI/blob/main/UTS_soal_1_Bisection.ipynb\" target=\"_parent\"><img src=\"https://colab.research.google.com/assets/colab-badge.svg\" alt=\"Open In Colab\"/></a>"
      ]
    },
    {
      "cell_type": "code",
      "execution_count": 1,
      "metadata": {
        "id": "gkrxm3U4BABF"
      },
      "outputs": [],
      "source": [
        "import numpy as np\n",
        "import sys"
      ]
    },
    {
      "cell_type": "markdown",
      "source": [
        "untuk menambahkan library numpy dan diganti nama dengan np dan menambahkan library sys"
      ],
      "metadata": {
        "id": "PqTZis8iLaI4"
      }
    },
    {
      "cell_type": "code",
      "source": [
        "def f(x):\n",
        "    f = 2*x**2 - 4*x - 6\n",
        "    return f"
      ],
      "metadata": {
        "id": "qF_c55GzBX0Y"
      },
      "execution_count": 84,
      "outputs": []
    },
    {
      "cell_type": "markdown",
      "source": [
        "def digunakan untuk mendefinisikan suatu fungsi dalam python dalam kode diatas fungsi def diberi nama f dan x adalah paramater yang diterima oleh fungsi, x bisa dianggap sebagai input yang akan diproses oleh fungsi ketika dipanggil.\n",
        "\n",
        "f= 2*x**2 - 4*x - 6 adalah rumus fungsi dari variabel f.\n",
        "\n",
        "return f digunakan untuk mengembalikan suatu nilai varibel f yang telah dihitung berdasarkan rumus diatas"
      ],
      "metadata": {
        "id": "FRZdNWuHL7kQ"
      }
    },
    {
      "cell_type": "code",
      "source": [
        "def bisection(a, b):\n",
        "    eps = 0\n",
        "    while (eps == 0):\n",
        "        c=(a+b)/2\n",
        "        if (f(a)*f(c) < 0):\n",
        "          a = c\n",
        "        else:\n",
        "          b = c\n",
        "        eps =  abs(a-b)\n",
        "    return c"
      ],
      "metadata": {
        "id": "bHacaP5nBkgo"
      },
      "execution_count": 138,
      "outputs": []
    },
    {
      "cell_type": "markdown",
      "source": [
        "def digunakan untuk mendefinisikan fungsi dalam python dalam kode diatas def diberi nama bisection, dan (a,b) adalah paramater yang diterima oleh fungsi yang digunakan untuk mempresentasikan batas atas dan batas bawah dari interval dimana akar dari fungsi f(x) dicari.\n",
        "\n",
        "variabel eps dinisialiasi dengan nilai 0. eps biasanya digunakan untuk menentukan seberapa kecil jarak antara dua batas a dan b.\n",
        "\n",
        "while (eps == 0) digunakan untuk melooping.\n",
        "\n",
        "\n",
        "c= (a+b)/2 digunakan untuk mencari nilai tengah.\n",
        "\n",
        "\n",
        "if (f(a)*f(c) < 0):\n",
        "          a = c\n",
        "        else:\n",
        "          b = c\n",
        "          digunakan untuk mengecek tanda untuk memperbarui batas\n",
        "          jika f(a)*f(c) < 0 maka batas a diubah menjadi sebaliknya jika f(a)*f(c) tidak lebih kecil dari 0 maka batas b diubah menjadi c\n",
        "\n",
        "eps =  abs(a-b) digunakan untuk memperbarui looping\n",
        "\n",
        "return c digunakan untuk mengembalikan nilai c"
      ],
      "metadata": {
        "id": "BzJoquPYOAu5"
      }
    },
    {
      "cell_type": "code",
      "source": [
        "a = 2\n",
        "b = 4\n",
        "akar = bisection(a, b)\n",
        "print(\"Akar dari persamaan tersebut adalah:\", akar)"
      ],
      "metadata": {
        "colab": {
          "base_uri": "https://localhost:8080/"
        },
        "id": "Og9ZtanRDx7R",
        "outputId": "f30b5535-9a3f-4868-b2f5-d367bce0308f"
      },
      "execution_count": 139,
      "outputs": [
        {
          "output_type": "stream",
          "name": "stdout",
          "text": [
            "Akar dari persamaan tersebut adalah: 3.0\n"
          ]
        }
      ]
    },
    {
      "cell_type": "markdown",
      "source": [
        "a = 2 digunakan untuk mengisi nilai variabel a\n",
        "b = 4 digunakan untuk mengisi nilai variabel b\n",
        "akar = bisection(a,b) digunakan untuk mengisi nilai paramater a dan b ke bisection\n",
        "print digunakan untuk menampilkan output"
      ],
      "metadata": {
        "id": "di2dcdN9Rfr1"
      }
    }
  ]
}