{
  "nbformat": 4,
  "nbformat_minor": 0,
  "metadata": {
    "colab": {
      "provenance": [],
      "authorship_tag": "ABX9TyNgkYIRQGvX8sA2MrCK79aO",
      "include_colab_link": true
    },
    "kernelspec": {
      "name": "python3",
      "display_name": "Python 3"
    },
    "language_info": {
      "name": "python"
    }
  },
  "cells": [
    {
      "cell_type": "markdown",
      "metadata": {
        "id": "view-in-github",
        "colab_type": "text"
      },
      "source": [
        "<a href=\"https://colab.research.google.com/github/Dynmaxx/Komputasi-Numerik/blob/main/UTS_numerik_Soal_3.ipynb\" target=\"_parent\"><img src=\"https://colab.research.google.com/assets/colab-badge.svg\" alt=\"Open In Colab\"/></a>"
      ]
    },
    {
      "cell_type": "code",
      "execution_count": 44,
      "metadata": {
        "id": "pe56jqVc4SC5"
      },
      "outputs": [],
      "source": [
        "import numpy as np\n",
        "import sys"
      ]
    },
    {
      "cell_type": "code",
      "source": [
        "def eleminasi_gauss(A, B):\n",
        "    n = len(B)\n",
        "    X = np.zeros(n)\n",
        "\n",
        "    for i in range(n):\n",
        "\n",
        "        pivot = A[i][i]\n",
        "        A[i] = A[i] / pivot\n",
        "        B[i] = B[i] / pivot\n",
        "\n",
        "\n",
        "        for j in range(i + 1, n):\n",
        "            factor = A[j][i]\n",
        "            A[j] = A[j] - factor * A[i]\n",
        "            B[j] = B[j] - factor * B[i]\n",
        "\n",
        "    for i in range(n-1,-1,-1):\n",
        "        sum_ax = 0\n",
        "        for j in range(i + 1, n):\n",
        "            sum_ax += A[i][j] * X[j]\n",
        "        X[i] = B[i] - sum_ax\n",
        "\n",
        "    return X"
      ],
      "metadata": {
        "id": "q9oT49tX_0dk"
      },
      "execution_count": 53,
      "outputs": []
    },
    {
      "cell_type": "markdown",
      "source": [
        "n = len (B) digunakan untuk menentukan jumlah persamaan pada baris.\n",
        "\n",
        "X = np.zeros(n) digunakan untuk menginisialisasi array solusi dengan nol.\n",
        "\n",
        "pada for i pertama digunakan untuk membuat elemen diagonal menjadi 1\n",
        "\n",
        "for j digunakan untuk membuat elemen2 lainnya dikolom menjadi 0.\n",
        "                  \n",
        "pada for i kedua Digunakan untuk subtitusi mundur\n",
        "\n",
        "return x digunakan untuk mengembalikan nilai x"
      ],
      "metadata": {
        "id": "8c9fzqE9KK5s"
      }
    },
    {
      "cell_type": "code",
      "source": [
        "\n",
        "A = np.array([[2, 3, -1],\n",
        "              [4, -1, 2],\n",
        "              [1, 2, 3]], dtype=float)\n",
        "B = np.array([7, 1, 5], dtype=float)\n",
        "\n",
        "# Selesaikan sistem persamaan menggunakan eliminasi Gauss\n",
        "solution = eleminasi_gauss(A, B)\n",
        "\n",
        "print(\"Solusi dari sistem persamaan linear tersebut adalah:\")\n",
        "print(f\"x = {solution[0]}\")\n",
        "print(f\"y = {solution[1]}\")\n",
        "print(f\"z = {solution[2]}\")\n"
      ],
      "metadata": {
        "colab": {
          "base_uri": "https://localhost:8080/"
        },
        "id": "uqZq9vWBI_DM",
        "outputId": "2e026a6a-be3c-454d-90de-2c14acc975ec"
      },
      "execution_count": 55,
      "outputs": [
        {
          "output_type": "stream",
          "name": "stdout",
          "text": [
            "[[ 1.          1.5        -0.5       ]\n",
            " [-0.          1.         -0.57142857]\n",
            " [ 0.          0.          1.        ]]\n",
            "\n",
            "Solusi dari sistem persamaan linear tersebut adalah:\n",
            "x = 0.6603773584905661\n",
            "y = 1.9433962264150944\n",
            "z = 0.1509433962264151\n"
          ]
        }
      ]
    },
    {
      "cell_type": "markdown",
      "source": [
        "digunakan untuk mengisi matriks A dan vektor B dengan nilai yang sesuai."
      ],
      "metadata": {
        "id": "ie0vw3H9LwDG"
      }
    }
  ]
}